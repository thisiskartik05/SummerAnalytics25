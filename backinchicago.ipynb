{
  "cells": [
    {
      "cell_type": "code",
      "execution_count": null,
      "id": "48a0cd58",
      "metadata": {
        "_cell_guid": "b1076dfc-b9ad-4769-8c92-a6c4dae69d19",
        "_uuid": "8f2839f25d086af736a60e9eeb907d3b93b6e0e5",
        "execution": {
          "iopub.execute_input": "2025-06-12T05:39:52.996399Z",
          "iopub.status.busy": "2025-06-12T05:39:52.995593Z",
          "iopub.status.idle": "2025-06-12T05:39:54.920689Z",
          "shell.execute_reply": "2025-06-12T05:39:54.920021Z"
        },
        "papermill": {
          "duration": 1.931658,
          "end_time": "2025-06-12T05:39:54.922242",
          "exception": false,
          "start_time": "2025-06-12T05:39:52.990584",
          "status": "completed"
        },
        "tags": [],
        "id": "48a0cd58",
        "outputId": "7015f7f8-87f1-4647-9de6-5fe4b1f9179a"
      },
      "outputs": [
        {
          "name": "stdout",
          "output_type": "stream",
          "text": [
            "/kaggle/input/summer-analytics-mid-hackathon/hacktest.csv\n",
            "/kaggle/input/summer-analytics-mid-hackathon/hacktrain.csv\n"
          ]
        }
      ],
      "source": [
        "# This Python 3 environment comes with many helpful analytics libraries installed\n",
        "# It is defined by the kaggle/python Docker image: https://github.com/kaggle/docker-python\n",
        "# For example, here's several helpful packages to load\n",
        "\n",
        "import numpy as np # linear algebra\n",
        "import pandas as pd # data processing, CSV file I/O (e.g. pd.read_csv)\n",
        "\n",
        "# Input data files are available in the read-only \"../input/\" directory\n",
        "# For example, running this (by clicking run or pressing Shift+Enter) will list all files under the input directory\n",
        "\n",
        "import os\n",
        "for dirname, _, filenames in os.walk('/kaggle/input'):\n",
        "    for filename in filenames:\n",
        "        print(os.path.join(dirname, filename))\n",
        "\n",
        "# You can write up to 20GB to the current directory (/kaggle/working/) that gets preserved as output when you create a version using \"Save & Run All\"\n",
        "# You can also write temporary files to /kaggle/temp/, but they won't be saved outside of the current session"
      ]
    },
    {
      "cell_type": "code",
      "execution_count": null,
      "id": "61694ddb",
      "metadata": {
        "execution": {
          "iopub.execute_input": "2025-06-12T05:39:54.931040Z",
          "iopub.status.busy": "2025-06-12T05:39:54.930613Z",
          "iopub.status.idle": "2025-06-12T05:39:57.368238Z",
          "shell.execute_reply": "2025-06-12T05:39:57.367424Z"
        },
        "papermill": {
          "duration": 2.44341,
          "end_time": "2025-06-12T05:39:57.369896",
          "exception": false,
          "start_time": "2025-06-12T05:39:54.926486",
          "status": "completed"
        },
        "tags": [],
        "id": "61694ddb"
      },
      "outputs": [],
      "source": [
        "# Import necessary libraries\n",
        "import numpy as np\n",
        "import pandas as pd\n",
        "from sklearn.linear_model import LogisticRegression\n",
        "from sklearn.model_selection import train_test_split\n",
        "from sklearn.preprocessing import StandardScaler\n",
        "from sklearn.impute import SimpleImputer\n",
        "from sklearn.metrics import accuracy_score\n",
        "from sklearn.pipeline import make_pipeline\n",
        "import matplotlib.pyplot as plt\n",
        "import seaborn as sns\n"
      ]
    },
    {
      "cell_type": "code",
      "execution_count": null,
      "id": "77a751d5",
      "metadata": {
        "execution": {
          "iopub.execute_input": "2025-06-12T05:39:57.377727Z",
          "iopub.status.busy": "2025-06-12T05:39:57.377326Z",
          "iopub.status.idle": "2025-06-12T05:39:57.381904Z",
          "shell.execute_reply": "2025-06-12T05:39:57.381039Z"
        },
        "papermill": {
          "duration": 0.00978,
          "end_time": "2025-06-12T05:39:57.383187",
          "exception": false,
          "start_time": "2025-06-12T05:39:57.373407",
          "status": "completed"
        },
        "tags": [],
        "id": "77a751d5"
      },
      "outputs": [],
      "source": [
        "np.random.seed(42)\n"
      ]
    },
    {
      "cell_type": "code",
      "execution_count": null,
      "id": "6056ad0a",
      "metadata": {
        "execution": {
          "iopub.execute_input": "2025-06-12T05:39:57.390895Z",
          "iopub.status.busy": "2025-06-12T05:39:57.390501Z",
          "iopub.status.idle": "2025-06-12T05:39:57.484307Z",
          "shell.execute_reply": "2025-06-12T05:39:57.483500Z"
        },
        "papermill": {
          "duration": 0.099465,
          "end_time": "2025-06-12T05:39:57.485981",
          "exception": false,
          "start_time": "2025-06-12T05:39:57.386516",
          "status": "completed"
        },
        "tags": [],
        "id": "6056ad0a"
      },
      "outputs": [],
      "source": [
        "train_data = pd.read_csv(\"/kaggle/input/summer-analytics-mid-hackathon/hacktrain.csv\")\n",
        "test_data = pd.read_csv(\"/kaggle/input/summer-analytics-mid-hackathon/hacktest.csv\")"
      ]
    },
    {
      "cell_type": "code",
      "execution_count": null,
      "id": "04497149",
      "metadata": {
        "execution": {
          "iopub.execute_input": "2025-06-12T05:39:57.493901Z",
          "iopub.status.busy": "2025-06-12T05:39:57.493177Z",
          "iopub.status.idle": "2025-06-12T05:39:57.520381Z",
          "shell.execute_reply": "2025-06-12T05:39:57.519414Z"
        },
        "papermill": {
          "duration": 0.032757,
          "end_time": "2025-06-12T05:39:57.521941",
          "exception": false,
          "start_time": "2025-06-12T05:39:57.489184",
          "status": "completed"
        },
        "tags": [],
        "id": "04497149",
        "outputId": "555d274a-139d-4304-b21c-ba301264501d"
      },
      "outputs": [
        {
          "name": "stdout",
          "output_type": "stream",
          "text": [
            "Training data shape: (8000, 30)\n",
            "Test data shape: (2845, 29)\n",
            "\n",
            "First few rows of training data:\n",
            "   Unnamed: 0  ID  class  20150720_N  20150602_N  20150517_N  20150501_N  \\\n",
            "0           0   1  water    637.5950     658.668   -1882.030    -1924.36   \n",
            "1           1   2  water    634.2400     593.705   -1625.790    -1672.32   \n",
            "2           3   4  water     58.0174   -1599.160         NaN    -1052.63   \n",
            "3           4   5  water     72.5180         NaN     380.436    -1256.93   \n",
            "4           7   8  water   1136.4400         NaN         NaN     1647.83   \n",
            "\n",
            "   20150415_N  20150330_N  20150314_N  ...  20140610_N  20140525_N  \\\n",
            "0     997.904   -1739.990     630.087  ...         NaN   -1043.160   \n",
            "1     914.198    -692.386     707.626  ...         NaN    -933.934   \n",
            "2         NaN   -1564.630         NaN  ...    -1025.88     368.622   \n",
            "3     515.805   -1413.180    -802.942  ...    -1813.95     155.624   \n",
            "4    1935.800         NaN    2158.980  ...     1535.00    1959.430   \n",
            "\n",
            "   20140509_N  20140423_N  20140407_N  20140322_N  20140218_N  20140202_N  \\\n",
            "0   -1942.490     267.138         NaN         NaN     211.328   -2203.020   \n",
            "1    -625.385     120.059     364.858     476.972     220.878   -2250.000   \n",
            "2         NaN   -1227.800     304.621         NaN     369.214   -2202.120   \n",
            "3         NaN    -924.073     432.150     282.833     298.320   -2197.360   \n",
            "4    -279.317    -384.915    -113.406    1020.720    1660.650    -116.801   \n",
            "\n",
            "   20140117_N  20140101_N  \n",
            "0    -1180.19     433.906  \n",
            "1    -1360.56     524.075  \n",
            "2         NaN   -1343.550  \n",
            "3         NaN    -826.727  \n",
            "4     -568.05   -1357.140  \n",
            "\n",
            "[5 rows x 30 columns]\n"
          ]
        },
        {
          "name": "stderr",
          "output_type": "stream",
          "text": [
            "/usr/local/lib/python3.11/dist-packages/pandas/io/formats/format.py:1458: RuntimeWarning: invalid value encountered in greater\n",
            "  has_large_values = (abs_vals > 1e6).any()\n",
            "/usr/local/lib/python3.11/dist-packages/pandas/io/formats/format.py:1459: RuntimeWarning: invalid value encountered in less\n",
            "  has_small_values = ((abs_vals < 10 ** (-self.digits)) & (abs_vals > 0)).any()\n",
            "/usr/local/lib/python3.11/dist-packages/pandas/io/formats/format.py:1459: RuntimeWarning: invalid value encountered in greater\n",
            "  has_small_values = ((abs_vals < 10 ** (-self.digits)) & (abs_vals > 0)).any()\n"
          ]
        }
      ],
      "source": [
        "print(\"Training data shape:\", train_data.shape)\n",
        "print(\"Test data shape:\", test_data.shape)\n",
        "print(\"\\nFirst few rows of training data:\")\n",
        "print(train_data.head())\n"
      ]
    },
    {
      "cell_type": "code",
      "execution_count": null,
      "id": "1fe7f2d3",
      "metadata": {
        "execution": {
          "iopub.execute_input": "2025-06-12T05:39:57.531255Z",
          "iopub.status.busy": "2025-06-12T05:39:57.530573Z",
          "iopub.status.idle": "2025-06-12T05:39:57.539908Z",
          "shell.execute_reply": "2025-06-12T05:39:57.538818Z"
        },
        "papermill": {
          "duration": 0.016196,
          "end_time": "2025-06-12T05:39:57.541334",
          "exception": false,
          "start_time": "2025-06-12T05:39:57.525138",
          "status": "completed"
        },
        "tags": [],
        "id": "1fe7f2d3",
        "outputId": "1cfd52de-db15-453d-8b41-48f560d641d2"
      },
      "outputs": [
        {
          "name": "stdout",
          "output_type": "stream",
          "text": [
            "\n",
            "Missing values in training data:\n",
            "25040\n"
          ]
        }
      ],
      "source": [
        "print(\"\\nMissing values in training data:\")\n",
        "print(train_data.isnull().sum().sum())"
      ]
    },
    {
      "cell_type": "code",
      "execution_count": null,
      "id": "511d4121",
      "metadata": {
        "execution": {
          "iopub.execute_input": "2025-06-12T05:39:57.548870Z",
          "iopub.status.busy": "2025-06-12T05:39:57.548540Z",
          "iopub.status.idle": "2025-06-12T05:39:57.559716Z",
          "shell.execute_reply": "2025-06-12T05:39:57.558702Z"
        },
        "papermill": {
          "duration": 0.016799,
          "end_time": "2025-06-12T05:39:57.561440",
          "exception": false,
          "start_time": "2025-06-12T05:39:57.544641",
          "status": "completed"
        },
        "tags": [],
        "id": "511d4121",
        "outputId": "debbd1e7-485b-47ce-a972-30764b3bc82d"
      },
      "outputs": [
        {
          "name": "stdout",
          "output_type": "stream",
          "text": [
            "\n",
            "Class distribution:\n",
            "class\n",
            "forest        6159\n",
            "farm           841\n",
            "impervious     669\n",
            "grass          196\n",
            "water          105\n",
            "orchard         30\n",
            "Name: count, dtype: int64\n"
          ]
        }
      ],
      "source": [
        "print(\"\\nClass distribution:\")\n",
        "print(train_data['class'].value_counts())"
      ]
    },
    {
      "cell_type": "code",
      "execution_count": null,
      "id": "8ef2aebe",
      "metadata": {
        "execution": {
          "iopub.execute_input": "2025-06-12T05:39:57.569342Z",
          "iopub.status.busy": "2025-06-12T05:39:57.568995Z",
          "iopub.status.idle": "2025-06-12T05:39:57.581968Z",
          "shell.execute_reply": "2025-06-12T05:39:57.580984Z"
        },
        "papermill": {
          "duration": 0.018628,
          "end_time": "2025-06-12T05:39:57.583466",
          "exception": false,
          "start_time": "2025-06-12T05:39:57.564838",
          "status": "completed"
        },
        "tags": [],
        "id": "8ef2aebe"
      },
      "outputs": [],
      "source": [
        "def preprocess_data(df, is_train=True):\n",
        "\n",
        "    processed_df = df.copy()\n",
        "\n",
        "\n",
        "    if is_train:\n",
        "        X = processed_df.drop(['ID', 'class'], axis=1)\n",
        "        y = processed_df['class']\n",
        "    else:\n",
        "        X = processed_df.drop(['ID'], axis=1)\n",
        "        y = None\n",
        "\n",
        "\n",
        "    date_columns = [col for col in X.columns if '_N' in col]\n",
        "    dates = pd.to_datetime([col.split('_')[0] for col in date_columns], format='%Y%m%d')\n",
        "\n",
        "\n",
        "    ndvi_df = X[date_columns].copy()\n",
        "    ndvi_df.columns = dates\n",
        "\n",
        "\n",
        "    features = {\n",
        "        'mean': ndvi_df.mean(axis=1),\n",
        "        'median': ndvi_df.median(axis=1),\n",
        "        'std': ndvi_df.std(axis=1),\n",
        "        'min': ndvi_df.min(axis=1),\n",
        "        'max': ndvi_df.max(axis=1),\n",
        "        'range': ndvi_df.max(axis=1) - ndvi_df.min(axis=1),\n",
        "        'q25': ndvi_df.quantile(0.25, axis=1),\n",
        "        'q75': ndvi_df.quantile(0.75, axis=1),\n",
        "    }\n",
        "\n",
        "\n",
        "    winter_cols = [col for col in ndvi_df.columns if col.month in [12, 1, 2]]\n",
        "    spring_cols = [col for col in ndvi_df.columns if col.month in [3, 4, 5]]\n",
        "    summer_cols = [col for col in ndvi_df.columns if col.month in [6, 7, 8]]\n",
        "    fall_cols = [col for col in ndvi_df.columns if col.month in [9, 10, 11]]\n",
        "\n",
        "    if winter_cols:\n",
        "        features['winter_mean'] = ndvi_df[winter_cols].mean(axis=1)\n",
        "        features['winter_std'] = ndvi_df[winter_cols].std(axis=1)\n",
        "    if spring_cols:\n",
        "        features['spring_mean'] = ndvi_df[spring_cols].mean(axis=1)\n",
        "        features['spring_std'] = ndvi_df[spring_cols].std(axis=1)\n",
        "    if summer_cols:\n",
        "        features['summer_mean'] = ndvi_df[summer_cols].mean(axis=1)\n",
        "        features['summer_std'] = ndvi_df[summer_cols].std(axis=1)\n",
        "    if fall_cols:\n",
        "        features['fall_mean'] = ndvi_df[fall_cols].mean(axis=1)\n",
        "        features['fall_std'] = ndvi_df[fall_cols].std(axis=1)\n",
        "\n",
        "\n",
        "    time_values = np.array([(d - ndvi_df.columns[0]).days for d in ndvi_df.columns])\n",
        "    slopes = []\n",
        "    for _, row in ndvi_df.iterrows():\n",
        "        valid_idx = ~row.isna()\n",
        "        if sum(valid_idx) > 1:\n",
        "            slope = np.polyfit(time_values[valid_idx], row[valid_idx], 1)[0]\n",
        "        else:\n",
        "            slope = np.nan\n",
        "        slopes.append(slope)\n",
        "    features['slope'] = slopes\n",
        "\n",
        "    features['missing_count'] = ndvi_df.isnull().sum(axis=1)\n",
        "\n",
        "\n",
        "    feature_df = pd.DataFrame(features)\n",
        "\n",
        "\n",
        "    imputer = SimpleImputer(strategy='median')\n",
        "    feature_df_imputed = pd.DataFrame(imputer.fit_transform(feature_df),\n",
        "                                     columns=feature_df.columns)\n",
        "\n",
        "    if is_train:\n",
        "        return feature_df_imputed, y\n",
        "    else:\n",
        "        return feature_df_imputed"
      ]
    },
    {
      "cell_type": "code",
      "execution_count": null,
      "id": "563d947a",
      "metadata": {
        "execution": {
          "iopub.execute_input": "2025-06-12T05:39:57.591479Z",
          "iopub.status.busy": "2025-06-12T05:39:57.591174Z",
          "iopub.status.idle": "2025-06-12T05:40:02.929335Z",
          "shell.execute_reply": "2025-06-12T05:40:02.928078Z"
        },
        "papermill": {
          "duration": 5.343921,
          "end_time": "2025-06-12T05:40:02.930896",
          "exception": false,
          "start_time": "2025-06-12T05:39:57.586975",
          "status": "completed"
        },
        "tags": [],
        "id": "563d947a",
        "outputId": "d25cbca0-996b-4d4d-9657-4a3052d93017"
      },
      "outputs": [
        {
          "name": "stdout",
          "output_type": "stream",
          "text": [
            "\n",
            "Processed training features shape: (8000, 18)\n",
            "Processed test features shape: (2845, 18)\n"
          ]
        }
      ],
      "source": [
        "# Preprocess training and test data\n",
        "X_train, y_train = preprocess_data(train_data, is_train=True)\n",
        "X_test = preprocess_data(test_data, is_train=False)\n",
        "\n",
        "# Check the processed data\n",
        "print(\"\\nProcessed training features shape:\", X_train.shape)\n",
        "print(\"Processed test features shape:\", X_test.shape)"
      ]
    },
    {
      "cell_type": "code",
      "execution_count": null,
      "id": "cba26d08",
      "metadata": {
        "execution": {
          "iopub.execute_input": "2025-06-12T05:40:02.939129Z",
          "iopub.status.busy": "2025-06-12T05:40:02.938798Z",
          "iopub.status.idle": "2025-06-12T05:40:02.953208Z",
          "shell.execute_reply": "2025-06-12T05:40:02.952372Z"
        },
        "papermill": {
          "duration": 0.020129,
          "end_time": "2025-06-12T05:40:02.954713",
          "exception": false,
          "start_time": "2025-06-12T05:40:02.934584",
          "status": "completed"
        },
        "tags": [],
        "id": "cba26d08"
      },
      "outputs": [],
      "source": [
        "X_train_split, X_val_split, y_train_split, y_val_split = train_test_split(\n",
        "    X_train, y_train, test_size=0.2, random_state=42, stratify=y_train)"
      ]
    },
    {
      "cell_type": "code",
      "execution_count": null,
      "id": "df2d843e",
      "metadata": {
        "execution": {
          "iopub.execute_input": "2025-06-12T05:40:02.963484Z",
          "iopub.status.busy": "2025-06-12T05:40:02.962642Z",
          "iopub.status.idle": "2025-06-12T05:40:02.967223Z",
          "shell.execute_reply": "2025-06-12T05:40:02.966419Z"
        },
        "papermill": {
          "duration": 0.010366,
          "end_time": "2025-06-12T05:40:02.968708",
          "exception": false,
          "start_time": "2025-06-12T05:40:02.958342",
          "status": "completed"
        },
        "tags": [],
        "id": "df2d843e"
      },
      "outputs": [],
      "source": [
        "model = make_pipeline(\n",
        "    StandardScaler(),\n",
        "    LogisticRegression(\n",
        "        multi_class='multinomial',\n",
        "        solver='lbfgs',\n",
        "        max_iter=1000,\n",
        "        random_state=42,\n",
        "        class_weight='balanced'  # To handle class imbalance\n",
        "    )\n",
        ")\n"
      ]
    },
    {
      "cell_type": "code",
      "execution_count": null,
      "id": "8de2e229",
      "metadata": {
        "execution": {
          "iopub.execute_input": "2025-06-12T05:40:02.977115Z",
          "iopub.status.busy": "2025-06-12T05:40:02.976467Z",
          "iopub.status.idle": "2025-06-12T05:40:04.116400Z",
          "shell.execute_reply": "2025-06-12T05:40:04.115586Z"
        },
        "papermill": {
          "duration": 1.146064,
          "end_time": "2025-06-12T05:40:04.118270",
          "exception": false,
          "start_time": "2025-06-12T05:40:02.972206",
          "status": "completed"
        },
        "tags": [],
        "id": "8de2e229",
        "outputId": "80d7f4ee-b467-4749-841d-2ea29a11771b"
      },
      "outputs": [
        {
          "data": {
            "text/html": [
              "<style>#sk-container-id-1 {color: black;background-color: white;}#sk-container-id-1 pre{padding: 0;}#sk-container-id-1 div.sk-toggleable {background-color: white;}#sk-container-id-1 label.sk-toggleable__label {cursor: pointer;display: block;width: 100%;margin-bottom: 0;padding: 0.3em;box-sizing: border-box;text-align: center;}#sk-container-id-1 label.sk-toggleable__label-arrow:before {content: \"▸\";float: left;margin-right: 0.25em;color: #696969;}#sk-container-id-1 label.sk-toggleable__label-arrow:hover:before {color: black;}#sk-container-id-1 div.sk-estimator:hover label.sk-toggleable__label-arrow:before {color: black;}#sk-container-id-1 div.sk-toggleable__content {max-height: 0;max-width: 0;overflow: hidden;text-align: left;background-color: #f0f8ff;}#sk-container-id-1 div.sk-toggleable__content pre {margin: 0.2em;color: black;border-radius: 0.25em;background-color: #f0f8ff;}#sk-container-id-1 input.sk-toggleable__control:checked~div.sk-toggleable__content {max-height: 200px;max-width: 100%;overflow: auto;}#sk-container-id-1 input.sk-toggleable__control:checked~label.sk-toggleable__label-arrow:before {content: \"▾\";}#sk-container-id-1 div.sk-estimator input.sk-toggleable__control:checked~label.sk-toggleable__label {background-color: #d4ebff;}#sk-container-id-1 div.sk-label input.sk-toggleable__control:checked~label.sk-toggleable__label {background-color: #d4ebff;}#sk-container-id-1 input.sk-hidden--visually {border: 0;clip: rect(1px 1px 1px 1px);clip: rect(1px, 1px, 1px, 1px);height: 1px;margin: -1px;overflow: hidden;padding: 0;position: absolute;width: 1px;}#sk-container-id-1 div.sk-estimator {font-family: monospace;background-color: #f0f8ff;border: 1px dotted black;border-radius: 0.25em;box-sizing: border-box;margin-bottom: 0.5em;}#sk-container-id-1 div.sk-estimator:hover {background-color: #d4ebff;}#sk-container-id-1 div.sk-parallel-item::after {content: \"\";width: 100%;border-bottom: 1px solid gray;flex-grow: 1;}#sk-container-id-1 div.sk-label:hover label.sk-toggleable__label {background-color: #d4ebff;}#sk-container-id-1 div.sk-serial::before {content: \"\";position: absolute;border-left: 1px solid gray;box-sizing: border-box;top: 0;bottom: 0;left: 50%;z-index: 0;}#sk-container-id-1 div.sk-serial {display: flex;flex-direction: column;align-items: center;background-color: white;padding-right: 0.2em;padding-left: 0.2em;position: relative;}#sk-container-id-1 div.sk-item {position: relative;z-index: 1;}#sk-container-id-1 div.sk-parallel {display: flex;align-items: stretch;justify-content: center;background-color: white;position: relative;}#sk-container-id-1 div.sk-item::before, #sk-container-id-1 div.sk-parallel-item::before {content: \"\";position: absolute;border-left: 1px solid gray;box-sizing: border-box;top: 0;bottom: 0;left: 50%;z-index: -1;}#sk-container-id-1 div.sk-parallel-item {display: flex;flex-direction: column;z-index: 1;position: relative;background-color: white;}#sk-container-id-1 div.sk-parallel-item:first-child::after {align-self: flex-end;width: 50%;}#sk-container-id-1 div.sk-parallel-item:last-child::after {align-self: flex-start;width: 50%;}#sk-container-id-1 div.sk-parallel-item:only-child::after {width: 0;}#sk-container-id-1 div.sk-dashed-wrapped {border: 1px dashed gray;margin: 0 0.4em 0.5em 0.4em;box-sizing: border-box;padding-bottom: 0.4em;background-color: white;}#sk-container-id-1 div.sk-label label {font-family: monospace;font-weight: bold;display: inline-block;line-height: 1.2em;}#sk-container-id-1 div.sk-label-container {text-align: center;}#sk-container-id-1 div.sk-container {/* jupyter's `normalize.less` sets `[hidden] { display: none; }` but bootstrap.min.css set `[hidden] { display: none !important; }` so we also need the `!important` here to be able to override the default hidden behavior on the sphinx rendered scikit-learn.org. See: https://github.com/scikit-learn/scikit-learn/issues/21755 */display: inline-block !important;position: relative;}#sk-container-id-1 div.sk-text-repr-fallback {display: none;}</style><div id=\"sk-container-id-1\" class=\"sk-top-container\"><div class=\"sk-text-repr-fallback\"><pre>Pipeline(steps=[(&#x27;standardscaler&#x27;, StandardScaler()),\n",
              "                (&#x27;logisticregression&#x27;,\n",
              "                 LogisticRegression(class_weight=&#x27;balanced&#x27;, max_iter=1000,\n",
              "                                    multi_class=&#x27;multinomial&#x27;,\n",
              "                                    random_state=42))])</pre><b>In a Jupyter environment, please rerun this cell to show the HTML representation or trust the notebook. <br />On GitHub, the HTML representation is unable to render, please try loading this page with nbviewer.org.</b></div><div class=\"sk-container\" hidden><div class=\"sk-item sk-dashed-wrapped\"><div class=\"sk-label-container\"><div class=\"sk-label sk-toggleable\"><input class=\"sk-toggleable__control sk-hidden--visually\" id=\"sk-estimator-id-1\" type=\"checkbox\" ><label for=\"sk-estimator-id-1\" class=\"sk-toggleable__label sk-toggleable__label-arrow\">Pipeline</label><div class=\"sk-toggleable__content\"><pre>Pipeline(steps=[(&#x27;standardscaler&#x27;, StandardScaler()),\n",
              "                (&#x27;logisticregression&#x27;,\n",
              "                 LogisticRegression(class_weight=&#x27;balanced&#x27;, max_iter=1000,\n",
              "                                    multi_class=&#x27;multinomial&#x27;,\n",
              "                                    random_state=42))])</pre></div></div></div><div class=\"sk-serial\"><div class=\"sk-item\"><div class=\"sk-estimator sk-toggleable\"><input class=\"sk-toggleable__control sk-hidden--visually\" id=\"sk-estimator-id-2\" type=\"checkbox\" ><label for=\"sk-estimator-id-2\" class=\"sk-toggleable__label sk-toggleable__label-arrow\">StandardScaler</label><div class=\"sk-toggleable__content\"><pre>StandardScaler()</pre></div></div></div><div class=\"sk-item\"><div class=\"sk-estimator sk-toggleable\"><input class=\"sk-toggleable__control sk-hidden--visually\" id=\"sk-estimator-id-3\" type=\"checkbox\" ><label for=\"sk-estimator-id-3\" class=\"sk-toggleable__label sk-toggleable__label-arrow\">LogisticRegression</label><div class=\"sk-toggleable__content\"><pre>LogisticRegression(class_weight=&#x27;balanced&#x27;, max_iter=1000,\n",
              "                   multi_class=&#x27;multinomial&#x27;, random_state=42)</pre></div></div></div></div></div></div></div>"
            ],
            "text/plain": [
              "Pipeline(steps=[('standardscaler', StandardScaler()),\n",
              "                ('logisticregression',\n",
              "                 LogisticRegression(class_weight='balanced', max_iter=1000,\n",
              "                                    multi_class='multinomial',\n",
              "                                    random_state=42))])"
            ]
          },
          "execution_count": 12,
          "metadata": {},
          "output_type": "execute_result"
        }
      ],
      "source": [
        "model.fit(X_train_split, y_train_split)\n"
      ]
    },
    {
      "cell_type": "code",
      "execution_count": null,
      "id": "d000ca7b",
      "metadata": {
        "execution": {
          "iopub.execute_input": "2025-06-12T05:40:04.132517Z",
          "iopub.status.busy": "2025-06-12T05:40:04.130820Z",
          "iopub.status.idle": "2025-06-12T05:40:04.155159Z",
          "shell.execute_reply": "2025-06-12T05:40:04.152124Z"
        },
        "papermill": {
          "duration": 0.032984,
          "end_time": "2025-06-12T05:40:04.157287",
          "exception": false,
          "start_time": "2025-06-12T05:40:04.124303",
          "status": "completed"
        },
        "tags": [],
        "id": "d000ca7b",
        "outputId": "e7aeb2d7-d1f4-4939-f403-602c783e549a"
      },
      "outputs": [
        {
          "name": "stdout",
          "output_type": "stream",
          "text": [
            "\n",
            "Validation Accuracy: 0.6963\n"
          ]
        }
      ],
      "source": [
        "val_preds = model.predict(X_val_split)\n",
        "val_accuracy = accuracy_score(y_val_split, val_preds)\n",
        "print(f\"\\nValidation Accuracy: {val_accuracy:.4f}\")"
      ]
    },
    {
      "cell_type": "code",
      "execution_count": null,
      "id": "0543dfba",
      "metadata": {
        "execution": {
          "iopub.execute_input": "2025-06-12T05:40:04.179121Z",
          "iopub.status.busy": "2025-06-12T05:40:04.178266Z",
          "iopub.status.idle": "2025-06-12T05:40:05.902692Z",
          "shell.execute_reply": "2025-06-12T05:40:05.901468Z"
        },
        "papermill": {
          "duration": 1.735367,
          "end_time": "2025-06-12T05:40:05.904579",
          "exception": false,
          "start_time": "2025-06-12T05:40:04.169212",
          "status": "completed"
        },
        "tags": [],
        "id": "0543dfba",
        "outputId": "53860b29-4cce-428d-9274-88ff2ad9f368"
      },
      "outputs": [
        {
          "name": "stdout",
          "output_type": "stream",
          "text": [
            "\n",
            "Submission file saved as 'submission.csv'\n"
          ]
        },
        {
          "data": {
            "image/png": "[encoded data removed]",
            "text/plain": [
              "<Figure size 1000x600 with 1 Axes>"
            ]
          },
          "metadata": {},
          "output_type": "display_data"
        }
      ],
      "source": [
        "final_model = make_pipeline(\n",
        "    StandardScaler(),\n",
        "    LogisticRegression(\n",
        "        multi_class='multinomial',\n",
        "        solver='lbfgs',\n",
        "        max_iter=1000,\n",
        "        random_state=42,\n",
        "        class_weight='balanced'\n",
        "    )\n",
        ")\n",
        "\n",
        "final_model.fit(X_train, y_train)\n",
        "\n",
        "\n",
        "test_preds = final_model.predict(X_test)\n",
        "\n",
        "submission = pd.DataFrame({\n",
        "    'ID': test_data['ID'],\n",
        "    'class': test_preds\n",
        "})\n",
        "\n",
        "\n",
        "submission.to_csv('submission.csv', index=False)\n",
        "print(\"\\nSubmission file saved as 'submission.csv'\")\n",
        "\n",
        "\n",
        "if hasattr(final_model.named_steps['logisticregression'], 'coef_'):\n",
        "    feature_importance = pd.DataFrame({\n",
        "        'feature': X_train.columns,\n",
        "        'importance': final_model.named_steps['logisticregression'].coef_.mean(axis=0)\n",
        "    }).sort_values('importance', ascending=False)\n",
        "\n",
        "    plt.figure(figsize=(10, 6))\n",
        "    sns.barplot(x='importance', y='feature', data=feature_importance.head(20))\n",
        "    plt.title('Top 20 Important Features')\n",
        "    plt.tight_layout()\n",
        "    plt.show()"
      ]
    }
  ],
  "metadata": {
    "kaggle": {
      "accelerator": "none",
      "dataSources": [
        {
          "databundleVersionId": 12585144,
          "sourceId": 104491,
          "sourceType": "competition"
        }
      ],
      "dockerImageVersionId": 31040,
      "isGpuEnabled": false,
      "isInternetEnabled": false,
      "language": "python",
      "sourceType": "notebook"
    },
    "kernelspec": {
      "display_name": "Python 3",
      "language": "python",
      "name": "python3"
    },
    "language_info": {
      "codemirror_mode": {
        "name": "ipython",
        "version": 3
      },
      "file_extension": ".py",
      "mimetype": "text/x-python",
      "name": "python",
      "nbconvert_exporter": "python",
      "pygments_lexer": "ipython3",
      "version": "3.11.11"
    },
    "papermill": {
      "default_parameters": {},
      "duration": 18.403116,
      "end_time": "2025-06-12T05:40:06.633219",
      "environment_variables": {},
      "exception": null,
      "input_path": "__notebook__.ipynb",
      "output_path": "__notebook__.ipynb",
      "parameters": {},
      "start_time": "2025-06-12T05:39:48.230103",
      "version": "2.6.0"
    },
    "colab": {
      "provenance": []
    }
  },
  "nbformat": 4,
  "nbformat_minor": 5
}